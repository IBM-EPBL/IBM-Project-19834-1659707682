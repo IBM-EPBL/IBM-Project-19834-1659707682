{
 "cells": [
  {
   "cell_type": "code",
   "execution_count": 150,
   "id": "276c3f17",
   "metadata": {},
   "outputs": [],
   "source": [
    "import numpy as np\n",
    "import pandas as pd\n",
    "import matplotlib.pyplot as plt"
   ]
  },
  {
   "cell_type": "code",
   "execution_count": 151,
   "id": "21b0f198",
   "metadata": {},
   "outputs": [],
   "source": [
    "data = pd.read_csv('Admission_Predict.csv')"
   ]
  },
  {
   "cell_type": "code",
   "execution_count": 152,
   "id": "7b5868f4",
   "metadata": {},
   "outputs": [
    {
     "data": {
      "text/html": [
       "<div>\n",
       "<style scoped>\n",
       "    .dataframe tbody tr th:only-of-type {\n",
       "        vertical-align: middle;\n",
       "    }\n",
       "\n",
       "    .dataframe tbody tr th {\n",
       "        vertical-align: top;\n",
       "    }\n",
       "\n",
       "    .dataframe thead th {\n",
       "        text-align: right;\n",
       "    }\n",
       "</style>\n",
       "<table border=\"1\" class=\"dataframe\">\n",
       "  <thead>\n",
       "    <tr style=\"text-align: right;\">\n",
       "      <th></th>\n",
       "      <th>Serial No.</th>\n",
       "      <th>GRE Score</th>\n",
       "      <th>TOEFL Score</th>\n",
       "      <th>University Rating</th>\n",
       "      <th>SOP</th>\n",
       "      <th>LOR</th>\n",
       "      <th>CGPA</th>\n",
       "      <th>Research</th>\n",
       "      <th>Chance of Admit</th>\n",
       "    </tr>\n",
       "  </thead>\n",
       "  <tbody>\n",
       "    <tr>\n",
       "      <th>0</th>\n",
       "      <td>1</td>\n",
       "      <td>337</td>\n",
       "      <td>118</td>\n",
       "      <td>4</td>\n",
       "      <td>4.5</td>\n",
       "      <td>4.5</td>\n",
       "      <td>9.65</td>\n",
       "      <td>1</td>\n",
       "      <td>0.92</td>\n",
       "    </tr>\n",
       "    <tr>\n",
       "      <th>1</th>\n",
       "      <td>2</td>\n",
       "      <td>324</td>\n",
       "      <td>107</td>\n",
       "      <td>4</td>\n",
       "      <td>4.0</td>\n",
       "      <td>4.5</td>\n",
       "      <td>8.87</td>\n",
       "      <td>1</td>\n",
       "      <td>0.76</td>\n",
       "    </tr>\n",
       "    <tr>\n",
       "      <th>2</th>\n",
       "      <td>3</td>\n",
       "      <td>316</td>\n",
       "      <td>104</td>\n",
       "      <td>3</td>\n",
       "      <td>3.0</td>\n",
       "      <td>3.5</td>\n",
       "      <td>8.00</td>\n",
       "      <td>1</td>\n",
       "      <td>0.72</td>\n",
       "    </tr>\n",
       "    <tr>\n",
       "      <th>3</th>\n",
       "      <td>4</td>\n",
       "      <td>322</td>\n",
       "      <td>110</td>\n",
       "      <td>3</td>\n",
       "      <td>3.5</td>\n",
       "      <td>2.5</td>\n",
       "      <td>8.67</td>\n",
       "      <td>1</td>\n",
       "      <td>0.80</td>\n",
       "    </tr>\n",
       "    <tr>\n",
       "      <th>4</th>\n",
       "      <td>5</td>\n",
       "      <td>314</td>\n",
       "      <td>103</td>\n",
       "      <td>2</td>\n",
       "      <td>2.0</td>\n",
       "      <td>3.0</td>\n",
       "      <td>8.21</td>\n",
       "      <td>0</td>\n",
       "      <td>0.65</td>\n",
       "    </tr>\n",
       "  </tbody>\n",
       "</table>\n",
       "</div>"
      ],
      "text/plain": [
       "   Serial No.  GRE Score  TOEFL Score  University Rating  SOP  LOR   CGPA  \\\n",
       "0           1        337          118                  4  4.5   4.5  9.65   \n",
       "1           2        324          107                  4  4.0   4.5  8.87   \n",
       "2           3        316          104                  3  3.0   3.5  8.00   \n",
       "3           4        322          110                  3  3.5   2.5  8.67   \n",
       "4           5        314          103                  2  2.0   3.0  8.21   \n",
       "\n",
       "   Research  Chance of Admit   \n",
       "0         1              0.92  \n",
       "1         1              0.76  \n",
       "2         1              0.72  \n",
       "3         1              0.80  \n",
       "4         0              0.65  "
      ]
     },
     "execution_count": 152,
     "metadata": {},
     "output_type": "execute_result"
    }
   ],
   "source": [
    "data.head()"
   ]
  },
  {
   "cell_type": "code",
   "execution_count": 153,
   "id": "27533fb8",
   "metadata": {},
   "outputs": [
    {
     "data": {
      "text/html": [
       "<div>\n",
       "<style scoped>\n",
       "    .dataframe tbody tr th:only-of-type {\n",
       "        vertical-align: middle;\n",
       "    }\n",
       "\n",
       "    .dataframe tbody tr th {\n",
       "        vertical-align: top;\n",
       "    }\n",
       "\n",
       "    .dataframe thead th {\n",
       "        text-align: right;\n",
       "    }\n",
       "</style>\n",
       "<table border=\"1\" class=\"dataframe\">\n",
       "  <thead>\n",
       "    <tr style=\"text-align: right;\">\n",
       "      <th></th>\n",
       "      <th>GRE Score</th>\n",
       "      <th>TOEFL Score</th>\n",
       "      <th>University Rating</th>\n",
       "      <th>SOP</th>\n",
       "      <th>LOR</th>\n",
       "      <th>CGPA</th>\n",
       "      <th>Research</th>\n",
       "      <th>Chance of Admit</th>\n",
       "    </tr>\n",
       "  </thead>\n",
       "  <tbody>\n",
       "    <tr>\n",
       "      <th>0</th>\n",
       "      <td>337</td>\n",
       "      <td>118</td>\n",
       "      <td>4</td>\n",
       "      <td>4.5</td>\n",
       "      <td>4.5</td>\n",
       "      <td>9.65</td>\n",
       "      <td>1</td>\n",
       "      <td>0.92</td>\n",
       "    </tr>\n",
       "    <tr>\n",
       "      <th>1</th>\n",
       "      <td>324</td>\n",
       "      <td>107</td>\n",
       "      <td>4</td>\n",
       "      <td>4.0</td>\n",
       "      <td>4.5</td>\n",
       "      <td>8.87</td>\n",
       "      <td>1</td>\n",
       "      <td>0.76</td>\n",
       "    </tr>\n",
       "    <tr>\n",
       "      <th>2</th>\n",
       "      <td>316</td>\n",
       "      <td>104</td>\n",
       "      <td>3</td>\n",
       "      <td>3.0</td>\n",
       "      <td>3.5</td>\n",
       "      <td>8.00</td>\n",
       "      <td>1</td>\n",
       "      <td>0.72</td>\n",
       "    </tr>\n",
       "    <tr>\n",
       "      <th>3</th>\n",
       "      <td>322</td>\n",
       "      <td>110</td>\n",
       "      <td>3</td>\n",
       "      <td>3.5</td>\n",
       "      <td>2.5</td>\n",
       "      <td>8.67</td>\n",
       "      <td>1</td>\n",
       "      <td>0.80</td>\n",
       "    </tr>\n",
       "    <tr>\n",
       "      <th>4</th>\n",
       "      <td>314</td>\n",
       "      <td>103</td>\n",
       "      <td>2</td>\n",
       "      <td>2.0</td>\n",
       "      <td>3.0</td>\n",
       "      <td>8.21</td>\n",
       "      <td>0</td>\n",
       "      <td>0.65</td>\n",
       "    </tr>\n",
       "  </tbody>\n",
       "</table>\n",
       "</div>"
      ],
      "text/plain": [
       "   GRE Score  TOEFL Score  University Rating  SOP  LOR   CGPA  Research  \\\n",
       "0        337          118                  4  4.5   4.5  9.65         1   \n",
       "1        324          107                  4  4.0   4.5  8.87         1   \n",
       "2        316          104                  3  3.0   3.5  8.00         1   \n",
       "3        322          110                  3  3.5   2.5  8.67         1   \n",
       "4        314          103                  2  2.0   3.0  8.21         0   \n",
       "\n",
       "   Chance of Admit   \n",
       "0              0.92  \n",
       "1              0.76  \n",
       "2              0.72  \n",
       "3              0.80  \n",
       "4              0.65  "
      ]
     },
     "execution_count": 153,
     "metadata": {},
     "output_type": "execute_result"
    }
   ],
   "source": [
    "data.drop([\"Serial No.\"], axis = 1, inplace = True)\n",
    "data.head()"
   ]
  },
  {
   "cell_type": "code",
   "execution_count": 154,
   "id": "1172cd00",
   "metadata": {},
   "outputs": [
    {
     "data": {
      "text/html": [
       "<div>\n",
       "<style scoped>\n",
       "    .dataframe tbody tr th:only-of-type {\n",
       "        vertical-align: middle;\n",
       "    }\n",
       "\n",
       "    .dataframe tbody tr th {\n",
       "        vertical-align: top;\n",
       "    }\n",
       "\n",
       "    .dataframe thead th {\n",
       "        text-align: right;\n",
       "    }\n",
       "</style>\n",
       "<table border=\"1\" class=\"dataframe\">\n",
       "  <thead>\n",
       "    <tr style=\"text-align: right;\">\n",
       "      <th></th>\n",
       "      <th>GRE Score</th>\n",
       "      <th>TOEFL Score</th>\n",
       "      <th>University Rating</th>\n",
       "      <th>SOP</th>\n",
       "      <th>LOR</th>\n",
       "      <th>CGPA</th>\n",
       "      <th>Research</th>\n",
       "      <th>Chance of Admit</th>\n",
       "    </tr>\n",
       "  </thead>\n",
       "  <tbody>\n",
       "    <tr>\n",
       "      <th>count</th>\n",
       "      <td>400.000000</td>\n",
       "      <td>400.000000</td>\n",
       "      <td>400.000000</td>\n",
       "      <td>400.000000</td>\n",
       "      <td>400.000000</td>\n",
       "      <td>400.000000</td>\n",
       "      <td>400.000000</td>\n",
       "      <td>400.000000</td>\n",
       "    </tr>\n",
       "    <tr>\n",
       "      <th>mean</th>\n",
       "      <td>316.807500</td>\n",
       "      <td>107.410000</td>\n",
       "      <td>3.087500</td>\n",
       "      <td>3.400000</td>\n",
       "      <td>3.452500</td>\n",
       "      <td>8.598925</td>\n",
       "      <td>0.547500</td>\n",
       "      <td>0.724350</td>\n",
       "    </tr>\n",
       "    <tr>\n",
       "      <th>std</th>\n",
       "      <td>11.473646</td>\n",
       "      <td>6.069514</td>\n",
       "      <td>1.143728</td>\n",
       "      <td>1.006869</td>\n",
       "      <td>0.898478</td>\n",
       "      <td>0.596317</td>\n",
       "      <td>0.498362</td>\n",
       "      <td>0.142609</td>\n",
       "    </tr>\n",
       "    <tr>\n",
       "      <th>min</th>\n",
       "      <td>290.000000</td>\n",
       "      <td>92.000000</td>\n",
       "      <td>1.000000</td>\n",
       "      <td>1.000000</td>\n",
       "      <td>1.000000</td>\n",
       "      <td>6.800000</td>\n",
       "      <td>0.000000</td>\n",
       "      <td>0.340000</td>\n",
       "    </tr>\n",
       "    <tr>\n",
       "      <th>25%</th>\n",
       "      <td>308.000000</td>\n",
       "      <td>103.000000</td>\n",
       "      <td>2.000000</td>\n",
       "      <td>2.500000</td>\n",
       "      <td>3.000000</td>\n",
       "      <td>8.170000</td>\n",
       "      <td>0.000000</td>\n",
       "      <td>0.640000</td>\n",
       "    </tr>\n",
       "    <tr>\n",
       "      <th>50%</th>\n",
       "      <td>317.000000</td>\n",
       "      <td>107.000000</td>\n",
       "      <td>3.000000</td>\n",
       "      <td>3.500000</td>\n",
       "      <td>3.500000</td>\n",
       "      <td>8.610000</td>\n",
       "      <td>1.000000</td>\n",
       "      <td>0.730000</td>\n",
       "    </tr>\n",
       "    <tr>\n",
       "      <th>75%</th>\n",
       "      <td>325.000000</td>\n",
       "      <td>112.000000</td>\n",
       "      <td>4.000000</td>\n",
       "      <td>4.000000</td>\n",
       "      <td>4.000000</td>\n",
       "      <td>9.062500</td>\n",
       "      <td>1.000000</td>\n",
       "      <td>0.830000</td>\n",
       "    </tr>\n",
       "    <tr>\n",
       "      <th>max</th>\n",
       "      <td>340.000000</td>\n",
       "      <td>120.000000</td>\n",
       "      <td>5.000000</td>\n",
       "      <td>5.000000</td>\n",
       "      <td>5.000000</td>\n",
       "      <td>9.920000</td>\n",
       "      <td>1.000000</td>\n",
       "      <td>0.970000</td>\n",
       "    </tr>\n",
       "  </tbody>\n",
       "</table>\n",
       "</div>"
      ],
      "text/plain": [
       "        GRE Score  TOEFL Score  University Rating         SOP        LOR   \\\n",
       "count  400.000000   400.000000         400.000000  400.000000  400.000000   \n",
       "mean   316.807500   107.410000           3.087500    3.400000    3.452500   \n",
       "std     11.473646     6.069514           1.143728    1.006869    0.898478   \n",
       "min    290.000000    92.000000           1.000000    1.000000    1.000000   \n",
       "25%    308.000000   103.000000           2.000000    2.500000    3.000000   \n",
       "50%    317.000000   107.000000           3.000000    3.500000    3.500000   \n",
       "75%    325.000000   112.000000           4.000000    4.000000    4.000000   \n",
       "max    340.000000   120.000000           5.000000    5.000000    5.000000   \n",
       "\n",
       "             CGPA    Research  Chance of Admit   \n",
       "count  400.000000  400.000000        400.000000  \n",
       "mean     8.598925    0.547500          0.724350  \n",
       "std      0.596317    0.498362          0.142609  \n",
       "min      6.800000    0.000000          0.340000  \n",
       "25%      8.170000    0.000000          0.640000  \n",
       "50%      8.610000    1.000000          0.730000  \n",
       "75%      9.062500    1.000000          0.830000  \n",
       "max      9.920000    1.000000          0.970000  "
      ]
     },
     "execution_count": 154,
     "metadata": {},
     "output_type": "execute_result"
    }
   ],
   "source": [
    "data.describe()"
   ]
  },
  {
   "cell_type": "code",
   "execution_count": 155,
   "id": "c3a79191",
   "metadata": {},
   "outputs": [
    {
     "name": "stdout",
     "output_type": "stream",
     "text": [
      "<class 'pandas.core.frame.DataFrame'>\n",
      "RangeIndex: 400 entries, 0 to 399\n",
      "Data columns (total 8 columns):\n",
      " #   Column             Non-Null Count  Dtype  \n",
      "---  ------             --------------  -----  \n",
      " 0   GRE Score          400 non-null    int64  \n",
      " 1   TOEFL Score        400 non-null    int64  \n",
      " 2   University Rating  400 non-null    int64  \n",
      " 3   SOP                400 non-null    float64\n",
      " 4   LOR                400 non-null    float64\n",
      " 5   CGPA               400 non-null    float64\n",
      " 6   Research           400 non-null    int64  \n",
      " 7   Chance of Admit    400 non-null    float64\n",
      "dtypes: float64(4), int64(4)\n",
      "memory usage: 25.1 KB\n"
     ]
    }
   ],
   "source": [
    "data.info()"
   ]
  },
  {
   "cell_type": "code",
   "execution_count": 156,
   "id": "e9d0da48",
   "metadata": {},
   "outputs": [
    {
     "data": {
      "text/plain": [
       "array([[337.  , 118.  ,   4.  , ...,   4.5 ,   9.65,   1.  ],\n",
       "       [324.  , 107.  ,   4.  , ...,   4.5 ,   8.87,   1.  ],\n",
       "       [316.  , 104.  ,   3.  , ...,   3.5 ,   8.  ,   1.  ],\n",
       "       ...,\n",
       "       [330.  , 116.  ,   4.  , ...,   4.5 ,   9.45,   1.  ],\n",
       "       [312.  , 103.  ,   3.  , ...,   4.  ,   8.78,   0.  ],\n",
       "       [333.  , 117.  ,   4.  , ...,   4.  ,   9.66,   1.  ]])"
      ]
     },
     "execution_count": 156,
     "metadata": {},
     "output_type": "execute_result"
    }
   ],
   "source": [
    "x = data.iloc[:,0:7].values\n",
    "x"
   ]
  },
  {
   "cell_type": "code",
   "execution_count": 157,
   "id": "ae19c542",
   "metadata": {},
   "outputs": [
    {
     "name": "stdout",
     "output_type": "stream",
     "text": [
      "[0.92 0.76 0.72 0.8  0.65 0.9  0.75 0.68 0.5  0.45 0.52 0.84 0.78 0.62\n",
      " 0.61]\n",
      "[1, 1, 1, 1, 1, 1, 1, 1, 0, 0, 1, 1, 1, 1, 1]\n"
     ]
    }
   ],
   "source": [
    "y = data.iloc[:,7].values\n",
    "print(y[:15])\n",
    "y = [int(c>0.50) for c in y]\n",
    "print(y[:15])"
   ]
  },
  {
   "cell_type": "code",
   "execution_count": 158,
   "id": "8f81a5e8",
   "metadata": {},
   "outputs": [],
   "source": [
    "from sklearn.model_selection import train_test_split\n",
    "X_train, X_test, y_train, y_test = train_test_split(x, y, test_size = 0.2, random_state = 10)"
   ]
  },
  {
   "cell_type": "code",
   "execution_count": 182,
   "id": "abe61067",
   "metadata": {},
   "outputs": [
    {
     "name": "stdout",
     "output_type": "stream",
     "text": [
      "Shape of training split :  (320, 7)\n",
      "Shape of test split :  (80, 7)\n",
      "Number of training samples :  320\n",
      "number of testing samples :  80\n"
     ]
    }
   ],
   "source": [
    "print(\"Shape of training split : \",X_train.shape)\n",
    "print(\"Shape of test split : \",X_test.shape)\n",
    "print(\"Number of training samples : \", len(y_train))\n",
    "print(\"number of testing samples : \", len(y_test))"
   ]
  },
  {
   "cell_type": "code",
   "execution_count": 160,
   "id": "d5292466",
   "metadata": {},
   "outputs": [
    {
     "name": "stdout",
     "output_type": "stream",
     "text": [
      "[[323.   107.     3.     3.5    3.5    8.55   1.  ]\n",
      " [313.   101.     3.     2.5    3.     8.04   0.  ]\n",
      " [311.   106.     2.     3.5    3.     8.26   1.  ]\n",
      " [322.   107.     3.     3.5    3.5    8.46   1.  ]\n",
      " [320.   111.     4.     4.5    3.5    8.87   1.  ]\n",
      " [314.   106.     2.     4.     3.5    8.25   0.  ]\n",
      " [312.   101.     2.     2.5    3.5    8.04   1.  ]\n",
      " [316.   109.     3.     3.5    3.     8.76   0.  ]\n",
      " [323.   110.     5.     4.     5.     8.98   1.  ]\n",
      " [321.   112.     5.     5.     5.     9.06   1.  ]\n",
      " [335.   117.     5.     5.     5.     9.82   1.  ]\n",
      " [328.   115.     4.     4.5    4.     9.16   1.  ]\n",
      " [313.   107.     3.     4.     4.5    8.69   0.  ]\n",
      " [338.   120.     4.     5.     5.     9.66   1.  ]\n",
      " [325.   106.     3.     3.5    4.     8.4    1.  ]\n",
      " [327.   112.     3.     3.     3.     8.72   1.  ]\n",
      " [312.   107.     3.     3.     3.     8.46   1.  ]\n",
      " [331.   112.     5.     4.     5.     9.8    1.  ]\n",
      " [305.   107.     2.     2.5    2.5    8.42   0.  ]\n",
      " [312.   105.     3.     2.     3.     8.02   1.  ]]\n",
      "[[308.   106.     3.     3.5    2.5    8.21   1.  ]\n",
      " [321.   109.     4.     4.     4.     8.68   1.  ]\n",
      " [303.   100.     2.     3.     3.5    8.06   1.  ]\n",
      " [295.    99.     2.     2.5    3.     7.65   0.  ]\n",
      " [316.   102.     3.     2.     3.     7.4    0.  ]\n",
      " [311.    99.     1.     2.5    3.     8.43   1.  ]\n",
      " [340.   120.     4.     5.     5.     9.5    1.  ]\n",
      " [331.   117.     4.     4.5    5.     9.42   1.  ]\n",
      " [331.   115.     5.     4.     3.5    9.44   1.  ]\n",
      " [305.   108.     5.     3.     3.     8.48   0.  ]\n",
      " [327.   104.     5.     3.     3.5    8.84   1.  ]\n",
      " [322.   110.     4.     4.     5.     9.13   1.  ]\n",
      " [321.   109.     3.     3.     3.     8.54   1.  ]\n",
      " [315.   100.     1.     2.     2.5    7.95   0.  ]\n",
      " [336.   119.     5.     4.     3.5    9.8    1.  ]\n",
      " [329.   113.     5.     5.     4.5    9.45   1.  ]\n",
      " [296.    95.     2.     3.     2.     7.54   1.  ]\n",
      " [325.   112.     4.     3.5    3.5    8.92   0.  ]\n",
      " [332.   117.     4.     4.5    4.     9.1    0.  ]\n",
      " [324.   107.     5.     3.5    4.     8.66   1.  ]]\n",
      "[[0.66       0.53571429 0.5        0.625      0.625      0.56089744\n",
      "  1.        ]\n",
      " [0.46       0.32142857 0.5        0.375      0.5        0.3974359\n",
      "  0.        ]\n",
      " [0.42       0.5        0.25       0.625      0.5        0.46794872\n",
      "  1.        ]\n",
      " [0.64       0.53571429 0.5        0.625      0.625      0.53205128\n",
      "  1.        ]\n",
      " [0.6        0.67857143 0.75       0.875      0.625      0.66346154\n",
      "  1.        ]\n",
      " [0.48       0.5        0.25       0.75       0.625      0.46474359\n",
      "  0.        ]\n",
      " [0.44       0.32142857 0.25       0.375      0.625      0.3974359\n",
      "  1.        ]\n",
      " [0.52       0.60714286 0.5        0.625      0.5        0.62820513\n",
      "  0.        ]\n",
      " [0.66       0.64285714 1.         0.75       1.         0.69871795\n",
      "  1.        ]\n",
      " [0.62       0.71428571 1.         1.         1.         0.72435897\n",
      "  1.        ]\n",
      " [0.9        0.89285714 1.         1.         1.         0.96794872\n",
      "  1.        ]\n",
      " [0.76       0.82142857 0.75       0.875      0.75       0.75641026\n",
      "  1.        ]\n",
      " [0.46       0.53571429 0.5        0.75       0.875      0.60576923\n",
      "  0.        ]\n",
      " [0.96       1.         0.75       1.         1.         0.91666667\n",
      "  1.        ]\n",
      " [0.7        0.5        0.5        0.625      0.75       0.51282051\n",
      "  1.        ]\n",
      " [0.74       0.71428571 0.5        0.5        0.5        0.61538462\n",
      "  1.        ]\n",
      " [0.44       0.53571429 0.5        0.5        0.5        0.53205128\n",
      "  1.        ]\n",
      " [0.82       0.71428571 1.         0.75       1.         0.96153846\n",
      "  1.        ]\n",
      " [0.3        0.53571429 0.25       0.375      0.375      0.51923077\n",
      "  0.        ]\n",
      " [0.44       0.46428571 0.5        0.25       0.5        0.39102564\n",
      "  1.        ]]\n",
      "[[0.36       0.5        0.5        0.625      0.375      0.45192308\n",
      "  1.        ]\n",
      " [0.62       0.60714286 0.75       0.75       0.75       0.6025641\n",
      "  1.        ]\n",
      " [0.26       0.28571429 0.25       0.5        0.625      0.40384615\n",
      "  1.        ]\n",
      " [0.1        0.25       0.25       0.375      0.5        0.2724359\n",
      "  0.        ]\n",
      " [0.52       0.35714286 0.5        0.25       0.5        0.19230769\n",
      "  0.        ]\n",
      " [0.42       0.25       0.         0.375      0.5        0.5224359\n",
      "  1.        ]\n",
      " [1.         1.         0.75       1.         1.         0.86538462\n",
      "  1.        ]\n",
      " [0.82       0.89285714 0.75       0.875      1.         0.83974359\n",
      "  1.        ]\n",
      " [0.82       0.82142857 1.         0.75       0.625      0.84615385\n",
      "  1.        ]\n",
      " [0.3        0.57142857 1.         0.5        0.5        0.53846154\n",
      "  0.        ]\n",
      " [0.74       0.42857143 1.         0.5        0.625      0.65384615\n",
      "  1.        ]\n",
      " [0.64       0.64285714 0.75       0.75       1.         0.74679487\n",
      "  1.        ]\n",
      " [0.62       0.60714286 0.5        0.5        0.5        0.55769231\n",
      "  1.        ]\n",
      " [0.5        0.28571429 0.         0.25       0.375      0.36858974\n",
      "  0.        ]\n",
      " [0.92       0.96428571 1.         0.75       0.625      0.96153846\n",
      "  1.        ]\n",
      " [0.78       0.75       1.         1.         0.875      0.84935897\n",
      "  1.        ]\n",
      " [0.12       0.10714286 0.25       0.5        0.25       0.23717949\n",
      "  1.        ]\n",
      " [0.7        0.71428571 0.75       0.625      0.625      0.67948718\n",
      "  0.        ]\n",
      " [0.84       0.89285714 0.75       0.875      0.75       0.73717949\n",
      "  0.        ]\n",
      " [0.68       0.53571429 1.         0.625      0.75       0.59615385\n",
      "  1.        ]]\n"
     ]
    }
   ],
   "source": [
    "from sklearn.preprocessing import MinMaxScaler\n",
    "scaler = MinMaxScaler()\n",
    "print(X_train[:20])\n",
    "print(X_test[:20])\n",
    "X_train = scaler.fit_transform(X_train)\n",
    "X_test = scaler.transform(X_test)\n",
    "print(X_train[:20])\n",
    "print(X_test[:20])"
   ]
  },
  {
   "cell_type": "code",
   "execution_count": null,
   "id": "f3eb4f0b",
   "metadata": {},
   "outputs": [],
   "source": []
  },
  {
   "cell_type": "code",
   "execution_count": 161,
   "id": "7d220632",
   "metadata": {},
   "outputs": [],
   "source": [
    "from sklearn.linear_model import LogisticRegression\n",
    "cls = LogisticRegression(random_state = 0)\n",
    "lr = cls.fit(X_train, y_train)"
   ]
  },
  {
   "cell_type": "code",
   "execution_count": 162,
   "id": "c3514a4a",
   "metadata": {},
   "outputs": [
    {
     "name": "stdout",
     "output_type": "stream",
     "text": [
      "\n",
      " Acccuracy Score 93.750000 \n",
      "\n",
      " Recall Score 100.000000 \n",
      "\n",
      " ROC score 50.000000 \n",
      "\n",
      "[[ 0  5]\n",
      " [ 0 75]]\n"
     ]
    }
   ],
   "source": [
    "y_pred = lr.predict(X_test)\n",
    "from sklearn.metrics import accuracy_score, recall_score, roc_auc_score, confusion_matrix\n",
    "print(\"\\n Acccuracy Score %f \" %(accuracy_score(y_test, y_pred)*100))\n",
    "print(\"\\n Recall Score %f \" %(recall_score(y_test, y_pred)*100))\n",
    "print(\"\\n ROC score %f \\n\" %(roc_auc_score(y_test, y_pred)*100))\n",
    "print(confusion_matrix(y_test, y_pred))"
   ]
  },
  {
   "cell_type": "code",
   "execution_count": 163,
   "id": "ff5f8a33",
   "metadata": {},
   "outputs": [
    {
     "name": "stdout",
     "output_type": "stream",
     "text": [
      "GRE Score            330.00\n",
      "TOEFL Score          115.00\n",
      "University Rating      5.00\n",
      "SOP                    4.50\n",
      "LOR                    3.00\n",
      "CGPA                   9.34\n",
      "Research               1.00\n",
      "Chance of Admit        0.90\n",
      "Name: 5, dtype: float64\n",
      "\n",
      "Actual:  0.9\n",
      "Prediction :  [1]\n"
     ]
    }
   ],
   "source": []
  },
  {
   "cell_type": "code",
   "execution_count": 164,
   "id": "d2f4a875",
   "metadata": {},
   "outputs": [
    {
     "name": "stdout",
     "output_type": "stream",
     "text": [
      "GRE Score            325.00\n",
      "TOEFL Score          106.00\n",
      "University Rating      3.00\n",
      "SOP                    3.50\n",
      "LOR                    4.00\n",
      "CGPA                   8.40\n",
      "Research               1.00\n",
      "Chance of Admit        0.52\n",
      "Name: 10, dtype: float64\n",
      "\n",
      "Actual:  0.52\n",
      "Prediction :  [1]\n"
     ]
    }
   ],
   "source": [
    "test1 = data.iloc[10,:]\n",
    "print(test1)\n",
    "print(\"\\nActual: \", test1[7])\n",
    "test1 = scaler.transform([test1[:7]])\n",
    "print(\"Prediction : \",lr.predict(test1))"
   ]
  },
  {
   "cell_type": "code",
   "execution_count": 165,
   "id": "8c98b2d4",
   "metadata": {},
   "outputs": [
    {
     "name": "stdout",
     "output_type": "stream",
     "text": [
      "GRE Score            323.00\n",
      "TOEFL Score          108.00\n",
      "University Rating      3.00\n",
      "SOP                    3.50\n",
      "LOR                    3.00\n",
      "CGPA                   8.60\n",
      "Research               0.00\n",
      "Chance of Admit        0.45\n",
      "Name: 9, dtype: float64\n",
      "\n",
      "Actual:  0.45\n",
      "Prediction :  [1]\n"
     ]
    }
   ],
   "source": [
    "test1 = data.iloc[9,:]\n",
    "print(test1)\n",
    "print(\"\\nActual: \", test1[7])\n",
    "test1 = scaler.transform([test1[:7]])\n",
    "print(\"Prediction : \",lr.predict(test1))"
   ]
  },
  {
   "cell_type": "code",
   "execution_count": 166,
   "id": "e6b6be5b",
   "metadata": {},
   "outputs": [
    {
     "name": "stdout",
     "output_type": "stream",
     "text": [
      "GRE Score            302.0\n",
      "TOEFL Score          102.0\n",
      "University Rating      1.0\n",
      "SOP                    2.0\n",
      "LOR                    1.5\n",
      "CGPA                   8.0\n",
      "Research               0.0\n",
      "Chance of Admit        0.5\n",
      "Name: 8, dtype: float64\n",
      "\n",
      "Actual:  0.5\n",
      "Prediction :  [1]\n"
     ]
    }
   ],
   "source": [
    "test1 = data.iloc[8,:]\n",
    "print(test1)\n",
    "print(\"\\nActual: \", test1[7])\n",
    "test1 = scaler.transform([test1[:7]])\n",
    "print(\"Prediction : \",lr.predict(test1))"
   ]
  },
  {
   "cell_type": "code",
   "execution_count": 167,
   "id": "07773a4e",
   "metadata": {},
   "outputs": [
    {
     "name": "stdout",
     "output_type": "stream",
     "text": [
      "GRE Score            295.00\n",
      "TOEFL Score           93.00\n",
      "University Rating      1.00\n",
      "SOP                    2.00\n",
      "LOR                    2.00\n",
      "CGPA                   7.20\n",
      "Research               0.00\n",
      "Chance of Admit        0.46\n",
      "Name: 28, dtype: float64\n",
      "\n",
      "Actual:  0.46\n",
      "Prediction :  [0]\n"
     ]
    }
   ],
   "source": [
    "test1 = data.iloc[28,:]\n",
    "print(test1)\n",
    "print(\"\\nActual: \", test1[7])\n",
    "test1 = scaler.transform([test1[:7]])\n",
    "print(\"Prediction : \",lr.predict(test1))"
   ]
  },
  {
   "cell_type": "code",
   "execution_count": 168,
   "id": "674cadad",
   "metadata": {},
   "outputs": [
    {
     "name": "stdout",
     "output_type": "stream",
     "text": [
      "GRE Score            300.00\n",
      "TOEFL Score           99.00\n",
      "University Rating      1.00\n",
      "SOP                    3.00\n",
      "LOR                    2.00\n",
      "CGPA                   6.80\n",
      "Research               1.00\n",
      "Chance of Admit        0.36\n",
      "Name: 58, dtype: float64\n",
      "\n",
      "Actual:  0.36\n",
      "[[0.2  0.25 0.   0.5  0.25 0.   1.  ]]\n",
      "Prediction :  [1]\n"
     ]
    }
   ],
   "source": [
    "test1 = data.iloc[58,:]\n",
    "print(test1)\n",
    "print(\"\\nActual: \", test1[7])\n",
    "test1 = scaler.transform([test1[:7]])\n",
    "print(test1)\n",
    "print(\"Prediction : \",lr.predict(test1))"
   ]
  },
  {
   "cell_type": "code",
   "execution_count": 169,
   "id": "0e654278",
   "metadata": {},
   "outputs": [
    {
     "name": "stdout",
     "output_type": "stream",
     "text": [
      "GRE Score            311.00\n",
      "TOEFL Score          104.00\n",
      "University Rating      2.00\n",
      "SOP                    2.00\n",
      "LOR                    2.00\n",
      "CGPA                   8.30\n",
      "Research               0.00\n",
      "Chance of Admit        0.42\n",
      "Name: 59, dtype: float64\n",
      "\n",
      "Actual:  0.42\n",
      "[[0.42       0.42857143 0.25       0.25       0.25       0.48076923\n",
      "  0.        ]]\n",
      "Prediction :  [1]\n"
     ]
    }
   ],
   "source": [
    "test1 = data.iloc[59,:]\n",
    "print(test1)\n",
    "print(\"\\nActual: \", test1[7])\n",
    "test1 = scaler.transform([test1[:7]])\n",
    "print(test1)\n",
    "print(\"Prediction : \",lr.predict(test1))"
   ]
  },
  {
   "cell_type": "code",
   "execution_count": 170,
   "id": "7b3ca232",
   "metadata": {},
   "outputs": [
    {
     "name": "stdout",
     "output_type": "stream",
     "text": [
      "GRE Score            314.00\n",
      "TOEFL Score          108.00\n",
      "University Rating      3.00\n",
      "SOP                    4.50\n",
      "LOR                    3.50\n",
      "CGPA                   8.14\n",
      "Research               0.00\n",
      "Chance of Admit        0.64\n",
      "Name: 88, dtype: float64\n",
      "\n",
      "Actual:  0.64\n",
      "[[0.48       0.57142857 0.5        0.875      0.625      0.42948718\n",
      "  0.        ]]\n",
      "Prediction :  [1]\n"
     ]
    }
   ],
   "source": [
    "test1 = data.iloc[88,:]\n",
    "print(test1)\n",
    "print(\"\\nActual: \", test1[7])\n",
    "test1 = scaler.transform([test1[:7]])\n",
    "print(test1)\n",
    "print(\"Prediction : \",lr.predict(test1))"
   ]
  },
  {
   "cell_type": "code",
   "execution_count": 171,
   "id": "44428e4f",
   "metadata": {},
   "outputs": [
    {
     "name": "stdout",
     "output_type": "stream",
     "text": [
      "GRE Score            299.00\n",
      "TOEFL Score          102.00\n",
      "University Rating      3.00\n",
      "SOP                    4.00\n",
      "LOR                    3.50\n",
      "CGPA                   8.62\n",
      "Research               0.00\n",
      "Chance of Admit        0.56\n",
      "Name: 116, dtype: float64\n",
      "\n",
      "Actual:  0.56\n",
      "[[0.18       0.35714286 0.5        0.75       0.625      0.58333333\n",
      "  0.        ]]\n",
      "Prediction :  [1]\n"
     ]
    }
   ],
   "source": [
    "test1 = data.iloc[116,:]\n",
    "print(test1)\n",
    "print(\"\\nActual: \", test1[7])\n",
    "test1 = scaler.transform([test1[:7]])\n",
    "print(test1)\n",
    "print(\"Prediction : \",lr.predict(test1))"
   ]
  },
  {
   "cell_type": "code",
   "execution_count": 172,
   "id": "d4d17ff7",
   "metadata": {},
   "outputs": [
    {
     "name": "stdout",
     "output_type": "stream",
     "text": [
      "GRE Score            312.00\n",
      "TOEFL Score          105.00\n",
      "University Rating      2.00\n",
      "SOP                    2.00\n",
      "LOR                    2.50\n",
      "CGPA                   8.45\n",
      "Research               0.00\n",
      "Chance of Admit        0.72\n",
      "Name: 266, dtype: float64\n",
      "\n",
      "Actual:  0.72\n",
      "[[0.44       0.46428571 0.25       0.25       0.375      0.52884615\n",
      "  0.        ]]\n",
      "Prediction :  [1]\n"
     ]
    }
   ],
   "source": [
    "test1 = data.iloc[266,:]\n",
    "print(test1)\n",
    "print(\"\\nActual: \", test1[7])\n",
    "test1 = scaler.transform([test1[:7]])\n",
    "print(test1)\n",
    "print(\"Prediction : \",lr.predict(test1))"
   ]
  },
  {
   "cell_type": "code",
   "execution_count": 173,
   "id": "dda2fe2b",
   "metadata": {},
   "outputs": [
    {
     "name": "stdout",
     "output_type": "stream",
     "text": [
      "GRE Score            297.00\n",
      "TOEFL Score           96.00\n",
      "University Rating      2.00\n",
      "SOP                    2.50\n",
      "LOR                    2.00\n",
      "CGPA                   7.43\n",
      "Research               0.00\n",
      "Chance of Admit        0.34\n",
      "Name: 376, dtype: float64\n",
      "\n",
      "Actual:  0.34\n",
      "[[0.14       0.14285714 0.25       0.375      0.25       0.20192308\n",
      "  0.        ]]\n",
      "Prediction :  [1]\n"
     ]
    }
   ],
   "source": [
    "test1 = data.iloc[376,:]\n",
    "print(test1)\n",
    "print(\"\\nActual: \", test1[7])\n",
    "test1 = scaler.transform([test1[:7]])\n",
    "print(test1)\n",
    "print(\"Prediction : \",lr.predict(test1))"
   ]
  },
  {
   "cell_type": "code",
   "execution_count": 174,
   "id": "4fd763fa",
   "metadata": {},
   "outputs": [
    {
     "name": "stdout",
     "output_type": "stream",
     "text": [
      "GRE Score            299.00\n",
      "TOEFL Score           94.00\n",
      "University Rating      1.00\n",
      "SOP                    1.00\n",
      "LOR                    1.00\n",
      "CGPA                   7.34\n",
      "Research               0.00\n",
      "Chance of Admit        0.42\n",
      "Name: 347, dtype: float64\n",
      "\n",
      "Actual:  0.42\n",
      "[[0.18       0.07142857 0.         0.         0.         0.17307692\n",
      "  0.        ]]\n",
      "Prediction :  [0]\n"
     ]
    }
   ],
   "source": [
    "test1 = data.iloc[347,:]\n",
    "print(test1)\n",
    "print(\"\\nActual: \", test1[7])\n",
    "test1 = scaler.transform([test1[:7]])\n",
    "print(test1)\n",
    "print(\"Prediction : \",lr.predict(test1))"
   ]
  },
  {
   "cell_type": "code",
   "execution_count": 179,
   "id": "f8db70bd",
   "metadata": {},
   "outputs": [
    {
     "name": "stdout",
     "output_type": "stream",
     "text": [
      "GRE Score            313.00\n",
      "TOEFL Score          109.00\n",
      "University Rating      3.00\n",
      "SOP                    4.00\n",
      "LOR                    3.50\n",
      "CGPA                   9.00\n",
      "Research               0.00\n",
      "Chance of Admit        0.79\n",
      "Name: 289, dtype: float64\n",
      "\n",
      "Actual:  0.79\n",
      "[[0.46       0.60714286 0.5        0.75       0.625      0.70512821\n",
      "  0.        ]]\n",
      "Prediction :  [1]\n"
     ]
    }
   ],
   "source": [
    "test1 = data.iloc[289,:]\n",
    "print(test1)\n",
    "print(\"\\nActual: \", test1[7])\n",
    "test1 = scaler.transform([test1[:7]])\n",
    "print(test1)\n",
    "print(\"Prediction : \",lr.predict(test1))"
   ]
  },
  {
   "cell_type": "code",
   "execution_count": 180,
   "id": "958bf257",
   "metadata": {},
   "outputs": [
    {
     "name": "stdout",
     "output_type": "stream",
     "text": [
      "GRE Score            297.00\n",
      "TOEFL Score           96.00\n",
      "University Rating      2.00\n",
      "SOP                    2.50\n",
      "LOR                    1.50\n",
      "CGPA                   7.89\n",
      "Research               0.00\n",
      "Chance of Admit        0.43\n",
      "Name: 329, dtype: float64\n",
      "\n",
      "Actual:  0.43\n",
      "[[0.14       0.14285714 0.25       0.375      0.125      0.34935897\n",
      "  0.        ]]\n",
      "Prediction :  [1]\n"
     ]
    }
   ],
   "source": [
    "test1 = data.iloc[329,:]\n",
    "print(test1)\n",
    "print(\"\\nActual: \", test1[7])\n",
    "test1 = scaler.transform([test1[:7]])\n",
    "print(test1)\n",
    "print(\"Prediction : \",lr.predict(test1))"
   ]
  },
  {
   "cell_type": "code",
   "execution_count": 181,
   "id": "0b1ee5ee",
   "metadata": {},
   "outputs": [
    {
     "name": "stdout",
     "output_type": "stream",
     "text": [
      "GRE Score            295.00\n",
      "TOEFL Score           96.00\n",
      "University Rating      2.00\n",
      "SOP                    1.50\n",
      "LOR                    2.00\n",
      "CGPA                   7.34\n",
      "Research               0.00\n",
      "Chance of Admit        0.47\n",
      "Name: 344, dtype: float64\n",
      "\n",
      "Actual:  0.47\n",
      "[[0.1        0.14285714 0.25       0.125      0.25       0.17307692\n",
      "  0.        ]]\n",
      "Prediction :  [0]\n"
     ]
    }
   ],
   "source": [
    "test1 = data.iloc[344,:]\n",
    "print(test1)\n",
    "print(\"\\nActual: \", test1[7])\n",
    "test1 = scaler.transform([test1[:7]])\n",
    "print(test1)\n",
    "print(\"Prediction : \",lr.predict(test1))"
   ]
  },
  {
   "cell_type": "code",
   "execution_count": null,
   "id": "df732eec",
   "metadata": {},
   "outputs": [],
   "source": []
  }
 ],
 "metadata": {
  "kernelspec": {
   "display_name": "Python 3",
   "language": "python",
   "name": "python3"
  },
  "language_info": {
   "codemirror_mode": {
    "name": "ipython",
    "version": 3
   },
   "file_extension": ".py",
   "mimetype": "text/x-python",
   "name": "python",
   "nbconvert_exporter": "python",
   "pygments_lexer": "ipython3",
   "version": "3.8.8"
  }
 },
 "nbformat": 4,
 "nbformat_minor": 5
}
