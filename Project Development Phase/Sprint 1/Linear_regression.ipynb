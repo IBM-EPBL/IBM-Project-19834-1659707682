{
 "cells": [
  {
   "cell_type": "code",
   "execution_count": 1,
   "id": "b07e52df-2576-46bf-8ce1-c706635da7e2",
   "metadata": {},
   "outputs": [
    {
     "name": "stdout",
     "output_type": "stream",
     "text": [
      "Intercept:  -1.228285398131014\n",
      "Coefficients:\n",
      "Prediction for test set: [0.79793967 0.74792724 0.86871864 0.8856855  0.68403746 0.85370856\n",
      " 0.67161949 0.7408362  0.90663309 0.58312346 0.69567936 0.70838948\n",
      " 0.63860073 0.67760163 0.61539916 0.66737881 0.86000658 0.60810758\n",
      " 0.57801389 0.83481169 0.63781003 0.84700949 0.48541665 0.80094769\n",
      " 0.46753179 0.74748586 0.73368904 0.77987137 0.53655206 0.95974245\n",
      " 0.89124757 0.77355509 0.7263695  0.7001736  0.55882143 0.52577021\n",
      " 0.59819879 0.73301941 0.9236683  0.48339279 0.66735848 0.65187014\n",
      " 0.78597154 0.59528278 0.77790546 0.41384251 0.61783883 0.88046811\n",
      " 0.55779058 0.56629417 0.93355935 0.66785998 0.82618029 0.80313414\n",
      " 0.74052551 0.85051165 0.42295811 0.68660609 0.78066541 0.70283069\n",
      " 0.81316624 0.52125707 0.63282489 0.8123818  0.61293148 0.73399553\n",
      " 0.82449109 0.71593313 0.63620347 0.69537323 0.90186005 0.63823487\n",
      " 0.74906378 0.65595495 0.8590957  0.53615055 0.67875334 0.6856359\n",
      " 0.67688479 0.85390393 0.84227233 0.90884758 0.69405595 0.48302994\n",
      " 0.93644606 0.70666517 0.79116822 0.84675279 0.62712644 0.52163612\n",
      " 0.59865886 0.44918123 0.70366479 0.84887413 0.45395457 0.77122787\n",
      " 0.83264783 0.68634576 0.64283562 0.7096491  0.68226406 0.80400285\n",
      " 0.96883608 0.87650171 0.59008477 0.72890014 0.59882941 0.64737974\n",
      " 0.60326834 0.63152619 0.69819591 0.59452426 0.85136712 0.92622498\n",
      " 0.83075228 0.64479398 0.62520864 0.59349123 0.6992843  0.68393413]\n",
      "R squared: 80.17\n",
      "Mean Absolute Error: 0.04692878285488935\n",
      "Mean Square Error: 0.003716513784197384\n",
      "Root Mean Square Error: 0.060963216649036686\n"
     ]
    }
   ],
   "source": [
    "import pandas as pd\n",
    "import numpy as np\n",
    "import matplotlib.pyplot as plt\n",
    "from sklearn.linear_model import LinearRegression\n",
    "\n",
    "dataset = pd.read_csv(\"Admission_Predict.csv\")\n",
    "dataset.head()\n",
    "\n",
    "\n",
    "x = dataset[['GRE Score','TOEFL Score','University Rating','SOP','LOR ','CGPA','Research']]\n",
    "y = dataset['Chance of Admit ']\n",
    "\n",
    "\n",
    "from sklearn.model_selection import train_test_split\n",
    "x_train, x_test, y_train, y_test = train_test_split(x, y, test_size = 0.3, random_state = 100)\n",
    "\n",
    "mlr = LinearRegression()  \n",
    "mlr.fit(x_train, y_train)\n",
    "\n",
    "print(\"Intercept: \", mlr.intercept_)\n",
    "print(\"Coefficients:\")\n",
    "list(zip(x, mlr.coef_))\n",
    "\n",
    "#Prediction of test set\n",
    "\n",
    "y_pred_mlr= mlr.predict(x_test)\n",
    "\n",
    "#Predicted values\n",
    "print(\"Prediction for test set: {}\".format(y_pred_mlr))\n",
    "\n",
    "mlr_diff = pd.DataFrame({'Actual value': y_test, 'Predicted value': y_pred_mlr})\n",
    "mlr_diff.head()\n",
    "\n",
    "from sklearn import metrics\n",
    "meanAbErr = metrics.mean_absolute_error(y_test, y_pred_mlr)\n",
    "meanSqErr = metrics.mean_squared_error(y_test, y_pred_mlr)\n",
    "rootMeanSqErr = np.sqrt(metrics.mean_squared_error(y_test, y_pred_mlr))\n",
    "print('R squared: {:.2f}'.format(mlr.score(x,y)*100))\n",
    "print('Mean Absolute Error:', meanAbErr)\n",
    "print('Mean Square Error:', meanSqErr)\n",
    "print('Root Mean Square Error:', rootMeanSqErr)"
   ]
  },
  {
   "cell_type": "code",
   "execution_count": 2,
   "id": "d5a5128e-8ec5-40ee-8d94-c1aa47a01332",
   "metadata": {},
   "outputs": [
    {
     "name": "stdout",
     "output_type": "stream",
     "text": [
      "Prediction for test set: [0.95174021 0.54237348 0.92612384 0.59008477]\n"
     ]
    }
   ],
   "source": [
    "y_pred_mlr= mlr.predict([[337,118,4,4.5,4.5,9.65,1],[302,102,1,2,1.5,8,0],[333,117,4,5,4,9.66,1],[302,101,2,2.5,3.5,7.96,0]])\n",
    "#print(x_test)\n",
    "#Predicted values\n",
    "print(\"Prediction for test set: {}\".format(y_pred_mlr))"
   ]
  },
  {
   "cell_type": "code",
   "execution_count": 5,
   "id": "bb319cff-26f9-4c1f-943f-1de40983e706",
   "metadata": {},
   "outputs": [
    {
     "name": "stdout",
     "output_type": "stream",
     "text": [
      "What university would you like to apply ?Massachusetts Institute of Technology (MIT)\n",
      "Enter GRE Score 337\n",
      "Enter TOEFL Score 118\n",
      "Enter SOP 4.5\n",
      "Enter LOR  4.5\n",
      "Enter CGPA 9.55\n",
      "Enter Research 1\n",
      "\n",
      "\n",
      "\n",
      "Your chances of getting admitted in preferred university is : [0.91837795] %\n",
      "Next 5 universities with better chance :\n",
      "1 .  California Institute of Technology (Caltech)  Rank -  5  :  0.9229296128612785  % Chance\n",
      "2 .  Harvard University  Rank -  4  :  0.9220192807586063  % Chance\n",
      "3 .  University of Oxford  Rank -  3  :  0.9211089486559345  % Chance\n",
      "4 .  Stanford University  Rank -  2  :  0.9201986165532623  % Chance\n",
      "5 .  University of Cambridge  Rank -  1  :  0.9192882844505901  % Chance\n"
     ]
    }
   ],
   "source": [
    "PU = input(\"What university would you like to apply ?\")\n",
    "University_ranking = {'Massachusetts Institute of Technology (MIT)': 1, 'University of Cambridge': 1.1333333333333333, 'Stanford University': 1.2666666666666666, 'University of Oxford': 1.4, 'Harvard University': 1.5333333333333332, 'California Institute of Technology (Caltech)': 1.6666666666666665, 'Imperial College London': 1.7999999999999998, 'UCL (University College London)': 1.9333333333333331, 'ETH Zurich (Swiss Federal Institute of Technology)': 2.0666666666666664, 'University of Chicago': 2.1999999999999997, 'National University of Singapore (NUS)': 2.333333333333333, 'Peking University': 2.4666666666666663, 'University of Pennsylvania': 2.5999999999999996, 'Tsinghua University': 2.733333333333333, 'University of Edinburgh': 2.8666666666666663, 'Ecole Polytechnique Fédérale de Lausanne (EPFL)': 2.9999999999999996, 'Princeton University': 3.133333333333333, 'Yale University': 3.266666666666666, 'Nanyang Technological University, Singapore (NTU)': 3.3999999999999995, 'Cornell University': 3.5333333333333328, 'University of Hong Kong (UKU)': 3.666666666666666, 'Columbia University': 3.7999999999999994, 'University of Tokyo': 3.9333333333333327, 'Johns Hopkins University': 4.066666666666666, 'University of Michigan-Ann Arbor': 4.2, 'Universite PSL': 4.333333333333334, 'University of California, Berkeley (UCB)': 4.466666666666668, 'University of Manchester': 4.600000000000001, 'Seoul National University': 4.733333333333335, 'Australian National University': 4.866666666666669}\n",
    "ch = list(University_ranking.keys()).index(PU)+1\n",
    "if(ch>=25):\n",
    "    N = 30-ch\n",
    "else:\n",
    "    N = 5\n",
    "A = []\n",
    "INPUT = []\n",
    "INPUT_ALL = []\n",
    "for i in ['GRE Score','TOEFL Score','SOP','LOR ','CGPA','Research']:\n",
    "    INPUT.append(float(input(\"Enter \"+i+\" \")))\n",
    "#print(INPUT)\n",
    "for j in University_ranking:\n",
    "    INPUT_ALL.append(INPUT[:2]+[University_ranking[j]] + INPUT[2:])\n",
    "#print(INPUT_ALL)\n",
    "\n",
    "\n",
    "y_pred_mlr= mlr.predict(INPUT_ALL)\n",
    "#print(x_test)\n",
    "#Predicted values\n",
    "#print(\"Prediction for test set: {}\".format(y_pred_mlr))\n",
    "\n",
    "print()\n",
    "print()\n",
    "print()\n",
    "\n",
    "print(\"Your chances of getting admitted in preferred university is :\", mlr.predict([INPUT[:2]+[University_ranking[PU]] + INPUT[2:]]),\"%\")\n",
    "print(\"Next\",N ,\"universities with better chance :\") \n",
    "for i in range(N+ch-1,ch-1,-1):\n",
    "    print(abs((N+ch-1)-(i))+1,\". \", list(University_ranking.keys())[i],\" Rank - \",i,\" : \",y_pred_mlr[i],\" % Chance\")"
   ]
  },
  {
   "cell_type": "code",
   "execution_count": null,
   "id": "bc67d7bf",
   "metadata": {},
   "outputs": [],
   "source": []
  }
 ],
 "metadata": {
  "kernelspec": {
   "display_name": "Python 3",
   "language": "python",
   "name": "python3"
  },
  "language_info": {
   "codemirror_mode": {
    "name": "ipython",
    "version": 3
   },
   "file_extension": ".py",
   "mimetype": "text/x-python",
   "name": "python",
   "nbconvert_exporter": "python",
   "pygments_lexer": "ipython3",
   "version": "3.8.8"
  }
 },
 "nbformat": 4,
 "nbformat_minor": 5
}
